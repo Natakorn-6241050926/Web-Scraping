{
 "cells": [
  {
   "cell_type": "markdown",
   "metadata": {},
   "source": [
    "# 2602`454`: Web Scraping\n",
    "\n"
   ]
  },
  {
   "cell_type": "markdown",
   "metadata": {},
   "source": [
    "\n",
    "## student id: `6241050926`\n",
    "\n",
    "## student name : `ณฐกร พรวิวัฒน์`\n",
    "\n",
    "## Github: ``"
   ]
  },
  {
   "cell_type": "markdown",
   "metadata": {},
   "source": [
    "---"
   ]
  },
  {
   "cell_type": "code",
   "execution_count": 1,
   "metadata": {},
   "outputs": [
    {
     "name": "stdout",
     "output_type": "stream",
     "text": [
      "ip address: 192.168.1.39 (DESKTOP-SPBB5BL)\n",
      "last run: 2022-03-02 02:06:50.220849\n"
     ]
    }
   ],
   "source": [
    "import socket\n",
    "from datetime import datetime\n",
    "print(f'ip address: {socket.gethostbyname(socket.gethostname())} ({socket.gethostname()})')\n",
    "print(f'last run: {datetime.now()}')"
   ]
  },
  {
   "cell_type": "code",
   "execution_count": 2,
   "metadata": {},
   "outputs": [],
   "source": [
    "import selenium\n",
    "from selenium import webdriver\n",
    "from selenium.webdriver.common.keys import Keys\n",
    "import time"
   ]
  },
  {
   "cell_type": "code",
   "execution_count": 3,
   "metadata": {},
   "outputs": [
    {
     "name": "stderr",
     "output_type": "stream",
     "text": [
      "<ipython-input-3-95bfb44d707e>:1: DeprecationWarning: executable_path has been deprecated, please pass in a Service object\n",
      "  driver=webdriver.Chrome(executable_path=r'C:\\Users\\user\\OneDrive\\Desktop\\Amazon\\chromedriver')\n"
     ]
    }
   ],
   "source": [
    "driver=webdriver.Chrome(executable_path=r'C:\\Users\\user\\OneDrive\\Desktop\\Amazon\\chromedriver')"
   ]
  },
  {
   "cell_type": "code",
   "execution_count": 4,
   "metadata": {},
   "outputs": [],
   "source": [
    "driver.get('https://www.amazon.com/')"
   ]
  },
  {
   "cell_type": "code",
   "execution_count": 5,
   "metadata": {},
   "outputs": [
    {
     "name": "stderr",
     "output_type": "stream",
     "text": [
      "<ipython-input-5-3281beebe5f8>:1: DeprecationWarning: find_element_by_xpath is deprecated. Please use find_element(by=By.XPATH, value=xpath) instead\n",
      "  Login_botton=driver.find_element_by_xpath('//*[@id=\"nav-signin-tooltip\"]/a/span')\n"
     ]
    }
   ],
   "source": [
    "Login_botton=driver.find_element_by_xpath('//*[@id=\"nav-signin-tooltip\"]/a/span')"
   ]
  },
  {
   "cell_type": "code",
   "execution_count": 6,
   "metadata": {},
   "outputs": [],
   "source": [
    "Login_botton.click()"
   ]
  },
  {
   "cell_type": "code",
   "execution_count": 7,
   "metadata": {},
   "outputs": [
    {
     "name": "stderr",
     "output_type": "stream",
     "text": [
      "<ipython-input-7-4ff072903bb1>:1: DeprecationWarning: find_element_by_xpath is deprecated. Please use find_element(by=By.XPATH, value=xpath) instead\n",
      "  username=driver.find_element_by_xpath('//*[@id=\"ap_email\"]')\n"
     ]
    }
   ],
   "source": [
    "username=driver.find_element_by_xpath('//*[@id=\"ap_email\"]')\n",
    "username.send_keys(\"0859504905\")\n",
    "time.sleep(2) "
   ]
  },
  {
   "cell_type": "code",
   "execution_count": 8,
   "metadata": {},
   "outputs": [
    {
     "name": "stderr",
     "output_type": "stream",
     "text": [
      "<ipython-input-8-f6f90f85d390>:1: DeprecationWarning: find_element_by_xpath is deprecated. Please use find_element(by=By.XPATH, value=xpath) instead\n",
      "  continue_botton= driver.find_element_by_xpath('//*[@id=\"continue\"]')\n"
     ]
    }
   ],
   "source": [
    "continue_botton= driver.find_element_by_xpath('//*[@id=\"continue\"]')\n",
    "continue_botton.click()"
   ]
  },
  {
   "cell_type": "code",
   "execution_count": 9,
   "metadata": {},
   "outputs": [
    {
     "name": "stderr",
     "output_type": "stream",
     "text": [
      "<ipython-input-9-c2ed5762f1a7>:1: DeprecationWarning: find_element_by_xpath is deprecated. Please use find_element(by=By.XPATH, value=xpath) instead\n",
      "  password_key=driver.find_element_by_xpath('//*[@id=\"ap_password\"]')\n"
     ]
    }
   ],
   "source": [
    "password_key=driver.find_element_by_xpath('//*[@id=\"ap_password\"]')\n",
    "password_key.send_keys(\"0859504905PP\")"
   ]
  },
  {
   "cell_type": "code",
   "execution_count": 10,
   "metadata": {},
   "outputs": [
    {
     "name": "stderr",
     "output_type": "stream",
     "text": [
      "<ipython-input-10-c3f198e37bb1>:1: DeprecationWarning: find_element_by_xpath is deprecated. Please use find_element(by=By.XPATH, value=xpath) instead\n",
      "  signin_botton= driver.find_element_by_xpath('//*[@id=\"signInSubmit\"]')\n"
     ]
    }
   ],
   "source": [
    "signin_botton= driver.find_element_by_xpath('//*[@id=\"signInSubmit\"]')\n",
    "signin_botton.click()\n",
    "time.sleep(2) "
   ]
  },
  {
   "cell_type": "code",
   "execution_count": 11,
   "metadata": {},
   "outputs": [
    {
     "name": "stderr",
     "output_type": "stream",
     "text": [
      "<ipython-input-11-13803dda7803>:1: DeprecationWarning: find_element_by_xpath is deprecated. Please use find_element(by=By.XPATH, value=xpath) instead\n",
      "  search = driver.find_element_by_xpath('//*[@id=\"twotabsearchtextbox\"]')\n"
     ]
    }
   ],
   "source": [
    "search = driver.find_element_by_xpath('//*[@id=\"twotabsearchtextbox\"]')"
   ]
  },
  {
   "cell_type": "code",
   "execution_count": 12,
   "metadata": {},
   "outputs": [],
   "source": [
    "search.send_keys('asus computer laptop')"
   ]
  },
  {
   "cell_type": "code",
   "execution_count": 13,
   "metadata": {},
   "outputs": [],
   "source": [
    "search.send_keys(Keys.ENTER)"
   ]
  },
  {
   "cell_type": "code",
   "execution_count": 14,
   "metadata": {},
   "outputs": [
    {
     "name": "stderr",
     "output_type": "stream",
     "text": [
      "<ipython-input-14-af36f2dc42ff>:1: DeprecationWarning: find_element_by_xpath is deprecated. Please use find_element(by=By.XPATH, value=xpath) instead\n",
      "  Fix_asus = driver.find_element_by_xpath('//*[@id=\"p_89/ASUS\"]/span/a/div/label/i')\n"
     ]
    }
   ],
   "source": [
    "Fix_asus = driver.find_element_by_xpath('//*[@id=\"p_89/ASUS\"]/span/a/div/label/i')"
   ]
  },
  {
   "cell_type": "code",
   "execution_count": 15,
   "metadata": {},
   "outputs": [],
   "source": [
    "Fix_asus.click()\n",
    "time.sleep(2) "
   ]
  },
  {
   "cell_type": "code",
   "execution_count": 16,
   "metadata": {},
   "outputs": [],
   "source": [
    "data=driver.page_source"
   ]
  },
  {
   "cell_type": "code",
   "execution_count": 17,
   "metadata": {},
   "outputs": [],
   "source": [
    "import bs4\n"
   ]
  },
  {
   "cell_type": "code",
   "execution_count": 18,
   "metadata": {},
   "outputs": [],
   "source": [
    "soup = bs4.BeautifulSoup(data)"
   ]
  },
  {
   "cell_type": "code",
   "execution_count": 19,
   "metadata": {},
   "outputs": [],
   "source": [
    "all_products = soup.find_all('h2',{'class':'a-size-mini a-spacing-none a-color-base s-line-clamp-2'})"
   ]
  },
  {
   "cell_type": "code",
   "execution_count": 20,
   "metadata": {},
   "outputs": [
    {
     "data": {
      "text/plain": [
       "30"
      ]
     },
     "execution_count": 20,
     "metadata": {},
     "output_type": "execute_result"
    }
   ],
   "source": [
    "len(soup.find_all('h2',{'class':'a-size-mini a-spacing-none a-color-base s-line-clamp-2'}))\n"
   ]
  },
  {
   "cell_type": "code",
   "execution_count": 21,
   "metadata": {},
   "outputs": [
    {
     "data": {
      "text/plain": [
       "['Asus 11.6 HD Thin Light Student Laptop 2022 Newest , Intel\\xa0Celeron N4020(up to 2.8 GHz), 4GB RAM, 64GB eMMC, Number Pad, 180°Lay-Flat Hinge, HDMI, Webcam, WiFi, Windows 10 S, w/ 64GB SD Card  ',\n",
       " '2021 Flagship ASUS Laptop 15.6\" Thin Light Laptop Computer, 15.6\" FHD Display, Intel Celeron N4020 (up to 2.8GHz),4GB RAM, 128GB eMMC,Webcam,WiFi, Backlit Keyboard，Microsoft 365,Win10 S+Marxsol Cables  ',\n",
       " 'ASUS Laptop L210 11.6” ultra thin, Intel Celeron N4020 Processor, 4GB RAM, 64GB eMMC storage, Windows 10 Home in S mode with One Year of Office 365 Personal, L210MA-DB01  ',\n",
       " 'ASUS Laptop L510 Ultra Thin Laptop, 15.6” FHD Display, Intel Celeron N4020 Processor, 4GB RAM, 128GB Storage, Windows 10 Home in S Mode, 1 Year Microsoft 365, Star Black, L510MA-DS04  ',\n",
       " '2022 ASUS L510 Ultra Thin Laptop, 15.6\" FHD Display, Intel Celeron N4020 Processor, 4GB RAM, 256 GB Storage, 8Hrs+ Battery Life, Backlit Keyboard, Windows 10 Home + 1 Year Microsoft 365, Star Black  ',\n",
       " 'ASUS VivoBook 15 Thin and Light Laptop, 15.6” FHD Display, Intel i3-1005G1 CPU, 8GB RAM, 128GB SSD, Backlit Keyboard, Fingerprint, Windows 10 Home in S Mode, Slate Gray, F512JA-AS34  ',\n",
       " '2022 ASUS VivoBook 15 Touchscreen Laptop, i3-1115G4, 8GB RAM, 128GB SSD, 15.6 Full HD Display, Backlit Keyboard, Fingerprint Reader, Webcam, Wi-Fi, Win 10-Free Windows 11 Update, LIONEYE Bundle  ',\n",
       " 'ASUS VivoBook 14\" FHD LED Display Thin and Light Laptop 2022, Intel 4-Core i5-1135G7 Up to 4.2 GHz, 16GB RAM, 512GB SSD, HDMI, Fingerprint Reader, Backlit Keyboard, Grey, Win10, w/ 3in1 Accessories  ',\n",
       " 'ASUS VivoBook 15 Thin and Light 15.6” FHD Business Laptop 2022, Intel Core i3-1005G1 Processor(Up to 3.4GHz, ＞i5-8250U), 12GB RAM, 512GB PCIe SSD, Fingerprint, Windows 10 S w/ 3in1 Accessories  ',\n",
       " '2021 Flagship ASUS Laptop 15.6\" Thin Light Laptop Computer, 15.6\" FHD Display, Intel Celeron N4020 (up to 2.8GHz),4GB RAM, 128GB eMMC,Webcam,WiFi, Backlit Keyboard，Microsoft 365,Win10 S+Marxsol Cables  ',\n",
       " 'ASUS Laptop L210 11.6” Ultra Thin, Intel Celeron N4020 Processor, 4GB RAM, 64GB eMMC Storage, Windows 10 Home in S Mode with One Year of Office 365 Personal, L210MA-DB02  ',\n",
       " 'Newest ASUS Vivobook Laptop, 15.6\" Full HD Touchscreen, Intel Core i7-1065G7 Processor, 20GB RAM, 512GB PCIe NVMe SSD+1TB HDD, Backlit Keyboard, Wi-Fi, Webcam, HDMI, Windows 10 Home, 32GB ES USB  ',\n",
       " 'ASUS Chromebook C523 Laptop, 15.6\" HD NanoEdge-Display with 180 Degree-Hinge Intel Dual Core Celeron-Processor, 4GB-RAM, 32GB Storage, Silver Color, C523NA-DH02  ',\n",
       " 'ASUS VivoBook 15 Thin and Light Laptop, 15.6” FHD, Intel i5-1035G1 CPU, 8GB RAM, 512GB SSD, Backlit KB, Fingerprint, Windows 10, Slate Gray, F512JA-AS54  ',\n",
       " 'ASUS VivoBook S14 S433 Thin and Light Laptop, 14” FHD Display, Intel Core i5-1135G7 CPU, 8GB DDR4 RAM, 512GB PCIe SSD, Thunderbolt 3, Windows 10 Home, AI noise-cancellation, Indie Black, S433EA-DH51  ',\n",
       " 'ASUS TUF Dash 15 (2021) Ultra Slim Gaming Laptop, 15.6” 144Hz FHD, GeForce RTX 3050 Ti, Intel Core i7-11370H, 8GB DDR4, 512GB PCIe NVMe SSD, Wi-Fi 6, Windows 10, Eclipse Grey Color, TUF516PE-AB73  ',\n",
       " 'ASUS Vivobook 17.3\" FHD LED-Backlit Business Laptop, Intel Core i5-1035G1, Intel UHD Graphics, 8GB DDR4, 1TB HDD + 128GB NVMe SSD, Webcam, Bluetooth, HDMI, Backlit Keyboard, Windows 10, TWE Bundle  ',\n",
       " 'ASUS VivoBook 15 OLED K513 Thin & Light Laptop, 15.6 OLED Display, Intel i5-1135G7 CPU, Intel Iris Xe Graphics, 12GB RAM, 512GB PCIe SSD, Fingerprint Reader, Windows 10 Home, Indie Black, K513EA-AB54  ',\n",
       " 'ASUS Chromebook Flip C433 2 in 1 Laptop, 14\" Touchscreen FHD NanoEdge Display, Intel Core m3-8100Y Processor, 8GB RAM, 64GB eMMC Storage, Backlit Keyboard, Silver, Chrome OS, C433TA-AS384T  ',\n",
       " 'ASUS Chromebook C223 11.6\" HD Chromebook Laptop, Intel Dual-Core Celeron N3350 Processor (up to 2.4GHz), 4GB RAM, 32GB eMMC Storage, Premium Design, Grey, C223NA-DH02  ',\n",
       " '2022 ASUS VivoBook 15 Touchscreen Laptop, i3-1115G4, 8GB RAM, 128GB SSD, 15.6 Full HD Display, Backlit Keyboard, Fingerprint Reader, Webcam, Wi-Fi, Win 10-Free Windows 11 Update, LIONEYE Bundle  ',\n",
       " 'ASUS Vivobook 15.6\" FHD Display Laptop - Intel i7-1065G7(Beats Ryzen 7 3700U) - Intel HD Graphics 6000 , Webcam, WiFi, Bluetooth, HDMI, Windows 10S,Grey (20GB|512GB SSD, i7-1065G7)  ',\n",
       " 'Newest ASUS Vivobook Laptop, 15.6\" Full HD Touchscreen, Intel Core i7-1065G7 Processor, 20GB RAM, 512GB PCIe NVMe SSD+1TB HDD, Backlit Keyboard, Wi-Fi, Webcam, HDMI, Windows 10 Home, 32GB ES USB  ',\n",
       " 'ASUS VivoBook Flip 14 Thin and Light 2-in-1 Laptop, 14” FHD Touch, 11th Gen Intel\\xa0Core i3-1115G4, 4GB RAM, 128GB SSD, Thunderbolt 4, Fingerprint, Windows 10 Home in S Mode, Indie Black, TP470EA-AS34T  ',\n",
       " 'ASUS VivoBook 15 M515 Thin and Light Laptop, 15.6” IPS FHD Display, Windows 10 Home with Free Upgrade to Windows 11, AMD Ryzen 7 5700U, 8GB RAM, 512GB SSD, Fingerprint Reader, Slate Grey, M515UA-EB72  ',\n",
       " 'ASUS VivoBook 15 F515 Thin and Light Laptop, 15.6” FHD Display, Intel Core i3-1005G1 Processor, 4GB DDR4 RAM, 128GB PCIe SSD, Fingerprint Reader, Windows 10 Home in S Mode, Slate Grey, F515JA-AH31  ',\n",
       " 'ASUS 15.6\" FHD Thin Light Laptop 2022 Newest, Intel Celeron N4020 (up to 2.8GHz), 4GB RAM, 256GB, Blacklit Keyboard,Webcam, Win10 + 1 Year Microsoft 365  ',\n",
       " 'ASUS TUF Gaming F15 Gaming Laptop, 15.6” 144Hz FHD IPS-Type Display, Intel Core i7-11800H Processor, GeForce RTX 3060, 16GB DDR4 RAM, 1TB PCIe SSD, Wi-Fi 6, Windows 10 Home, TUF506HM-ES76  ',\n",
       " 'ASUS 15.6\" FHD Thin Light Laptop 2022 Newest, Intel Celeron N4020 (up to 2.8GHz), 4GB RAM, 256GB (128GB SSD + 128GB eMMC), Blacklit Keyboard,Webcam, Win10 + 1 Year Microsoft 365 +3in1 Accessories  ',\n",
       " 'ASUS VivoBook 15 15.6\" FHD High Performance Laptop, AMD Ryzen 3 3250U up to 3.5GHz, 8GB DDR4, 512GB SSD, Backlit Keyboard, Fingerprint Reader, Webcam, WiFi, Bluetooth, HDMI, Windows 10, TWE Bundle  ']"
      ]
     },
     "execution_count": 21,
     "metadata": {},
     "output_type": "execute_result"
    }
   ],
   "source": [
    "all_products_list = []\n",
    "for products in all_products:\n",
    "    all_products_list.append(products.text)\n",
    "all_products_list"
   ]
  },
  {
   "cell_type": "code",
   "execution_count": 22,
   "metadata": {},
   "outputs": [],
   "source": [
    "all_sellprices = soup.find_all('span',{'class':'a-price-whole'})"
   ]
  },
  {
   "cell_type": "code",
   "execution_count": 23,
   "metadata": {},
   "outputs": [
    {
     "data": {
      "text/plain": [
       "30"
      ]
     },
     "execution_count": 23,
     "metadata": {},
     "output_type": "execute_result"
    }
   ],
   "source": [
    "len(soup.find_all('span',{'class':'a-price-whole'}))"
   ]
  },
  {
   "cell_type": "code",
   "execution_count": 24,
   "metadata": {},
   "outputs": [
    {
     "data": {
      "text/plain": [
       "['8,339.',\n",
       " '11,019.',\n",
       " '7,368.',\n",
       " '8,775.',\n",
       " '11,387.',\n",
       " '14,971.',\n",
       " '16,746.',\n",
       " '21,767.',\n",
       " '18,387.',\n",
       " '11,019.',\n",
       " '7,368.',\n",
       " '32,454.',\n",
       " '7,767.',\n",
       " '22,339.',\n",
       " '21,770.',\n",
       " '31,818.',\n",
       " '23,042.',\n",
       " '24,644.',\n",
       " '13,228.',\n",
       " '4,588.',\n",
       " '16,746.',\n",
       " '28,435.',\n",
       " '32,454.',\n",
       " '15,071.',\n",
       " '21,100.',\n",
       " '13,531.',\n",
       " '11,049.',\n",
       " '47,626.',\n",
       " '11,052.',\n",
       " '18,420.']"
      ]
     },
     "execution_count": 24,
     "metadata": {},
     "output_type": "execute_result"
    }
   ],
   "source": [
    "all_sellprices_list = []\n",
    "for sellprices in all_sellprices:\n",
    "    all_sellprices_list.append(sellprices.text)\n",
    "all_sellprices_list"
   ]
  },
  {
   "cell_type": "code",
   "execution_count": 25,
   "metadata": {},
   "outputs": [],
   "source": [
    "all_demicals = soup.find_all('span',{'class':'a-price-decimal'})"
   ]
  },
  {
   "cell_type": "code",
   "execution_count": 26,
   "metadata": {},
   "outputs": [
    {
     "data": {
      "text/plain": [
       "30"
      ]
     },
     "execution_count": 26,
     "metadata": {},
     "output_type": "execute_result"
    }
   ],
   "source": [
    "len(soup.find_all('span',{'class':'a-price-decimal'}))"
   ]
  },
  {
   "cell_type": "code",
   "execution_count": 27,
   "metadata": {},
   "outputs": [
    {
     "data": {
      "text/plain": [
       "['.',\n",
       " '.',\n",
       " '.',\n",
       " '.',\n",
       " '.',\n",
       " '.',\n",
       " '.',\n",
       " '.',\n",
       " '.',\n",
       " '.',\n",
       " '.',\n",
       " '.',\n",
       " '.',\n",
       " '.',\n",
       " '.',\n",
       " '.',\n",
       " '.',\n",
       " '.',\n",
       " '.',\n",
       " '.',\n",
       " '.',\n",
       " '.',\n",
       " '.',\n",
       " '.',\n",
       " '.',\n",
       " '.',\n",
       " '.',\n",
       " '.',\n",
       " '.',\n",
       " '.']"
      ]
     },
     "execution_count": 27,
     "metadata": {},
     "output_type": "execute_result"
    }
   ],
   "source": [
    "all_demicals_list = []\n",
    "for demicals in all_demicals:\n",
    "    all_demicals_list.append(demicals.text)\n",
    "all_demicals_list"
   ]
  },
  {
   "cell_type": "code",
   "execution_count": 28,
   "metadata": {},
   "outputs": [],
   "source": [
    "all_fractions = soup.find_all('span',{'class':'a-price-fraction'})"
   ]
  },
  {
   "cell_type": "code",
   "execution_count": 29,
   "metadata": {},
   "outputs": [
    {
     "data": {
      "text/plain": [
       "30"
      ]
     },
     "execution_count": 29,
     "metadata": {},
     "output_type": "execute_result"
    }
   ],
   "source": [
    "len(soup.find_all('span',{'class':'a-price-fraction'}))"
   ]
  },
  {
   "cell_type": "code",
   "execution_count": 30,
   "metadata": {},
   "outputs": [
    {
     "data": {
      "text/plain": [
       "['76',\n",
       " '20',\n",
       " '13',\n",
       " '17',\n",
       " '29',\n",
       " '37',\n",
       " '17',\n",
       " '10',\n",
       " '66',\n",
       " '20',\n",
       " '13',\n",
       " '72',\n",
       " '03',\n",
       " '83',\n",
       " '12',\n",
       " '02',\n",
       " '85',\n",
       " '82',\n",
       " '06',\n",
       " '21',\n",
       " '17',\n",
       " '23',\n",
       " '72',\n",
       " '52',\n",
       " '26',\n",
       " '17',\n",
       " '34',\n",
       " '72',\n",
       " '36',\n",
       " '82']"
      ]
     },
     "execution_count": 30,
     "metadata": {},
     "output_type": "execute_result"
    }
   ],
   "source": [
    "all_fractions_list = []\n",
    "for fractions in all_fractions:\n",
    "    all_fractions_list.append(fractions.text)\n",
    "all_fractions_list"
   ]
  },
  {
   "cell_type": "code",
   "execution_count": 31,
   "metadata": {},
   "outputs": [],
   "source": [
    "all_reviews = soup.find_all('a',{'class':'a-popover-trigger a-declarative'})"
   ]
  },
  {
   "cell_type": "code",
   "execution_count": 32,
   "metadata": {},
   "outputs": [
    {
     "data": {
      "text/plain": [
       "30"
      ]
     },
     "execution_count": 32,
     "metadata": {},
     "output_type": "execute_result"
    }
   ],
   "source": [
    "len(soup.find_all('a',{'class':'a-popover-trigger a-declarative'}))"
   ]
  },
  {
   "cell_type": "code",
   "execution_count": 33,
   "metadata": {},
   "outputs": [
    {
     "data": {
      "text/plain": [
       "['4.3 out of 5 stars',\n",
       " '4.2 out of 5 stars',\n",
       " '4.3 out of 5 stars',\n",
       " '4.5 out of 5 stars',\n",
       " '4.4 out of 5 stars',\n",
       " '4.6 out of 5 stars',\n",
       " '4.2 out of 5 stars',\n",
       " '4.0 out of 5 stars',\n",
       " '4.0 out of 5 stars',\n",
       " '4.2 out of 5 stars',\n",
       " '3.9 out of 5 stars',\n",
       " '4.0 out of 5 stars',\n",
       " '4.3 out of 5 stars',\n",
       " '4.5 out of 5 stars',\n",
       " '4.6 out of 5 stars',\n",
       " '4.5 out of 5 stars',\n",
       " '5.0 out of 5 stars',\n",
       " '4.0 out of 5 stars',\n",
       " '4.5 out of 5 stars',\n",
       " '4.3 out of 5 stars',\n",
       " '4.2 out of 5 stars',\n",
       " '4.5 out of 5 stars',\n",
       " '4.0 out of 5 stars',\n",
       " '4.4 out of 5 stars',\n",
       " '4.6 out of 5 stars',\n",
       " '4.5 out of 5 stars',\n",
       " '4.5 out of 5 stars',\n",
       " '4.2 out of 5 stars',\n",
       " '5.0 out of 5 stars',\n",
       " '5.0 out of 5 stars']"
      ]
     },
     "execution_count": 33,
     "metadata": {},
     "output_type": "execute_result"
    }
   ],
   "source": [
    "all_reviews_list = []\n",
    "for reviews in all_reviews:\n",
    "    all_reviews_list.append(reviews.text)\n",
    "all_reviews_list"
   ]
  },
  {
   "cell_type": "code",
   "execution_count": 34,
   "metadata": {},
   "outputs": [],
   "source": [
    "all_sales = soup.find_all('span',{'class':'a-size-base s-underline-text'})"
   ]
  },
  {
   "cell_type": "code",
   "execution_count": 35,
   "metadata": {},
   "outputs": [
    {
     "data": {
      "text/plain": [
       "30"
      ]
     },
     "execution_count": 35,
     "metadata": {},
     "output_type": "execute_result"
    }
   ],
   "source": [
    "len(soup.find_all('span',{'class':'a-size-base s-underline-text'}))"
   ]
  },
  {
   "cell_type": "code",
   "execution_count": 36,
   "metadata": {},
   "outputs": [
    {
     "data": {
      "text/plain": [
       "['184',\n",
       " '41',\n",
       " '6,164',\n",
       " '447',\n",
       " '124',\n",
       " '5,317',\n",
       " '25',\n",
       " '17',\n",
       " '6',\n",
       " '41',\n",
       " '34',\n",
       " '25',\n",
       " '1,426',\n",
       " '919',\n",
       " '285',\n",
       " '716',\n",
       " '2',\n",
       " '80',\n",
       " '470',\n",
       " '1,346',\n",
       " '25',\n",
       " '26',\n",
       " '25',\n",
       " '172',\n",
       " '114',\n",
       " '868',\n",
       " '20',\n",
       " '102',\n",
       " '1',\n",
       " '8']"
      ]
     },
     "execution_count": 36,
     "metadata": {},
     "output_type": "execute_result"
    }
   ],
   "source": [
    "all_sales_list = []\n",
    "for sales in all_sales:\n",
    "    all_sales_list.append(sales.text)\n",
    "all_sales_list"
   ]
  },
  {
   "cell_type": "code",
   "execution_count": 37,
   "metadata": {},
   "outputs": [],
   "source": [
    "import pandas as pd\n"
   ]
  },
  {
   "cell_type": "code",
   "execution_count": 38,
   "metadata": {},
   "outputs": [],
   "source": [
    "Amazon_Asus_computer_laptop=pd.DataFrame([all_products_list,all_sellprices_list,all_demicals_list,all_fractions_list,all_reviews_list,all_sales_list])"
   ]
  },
  {
   "cell_type": "code",
   "execution_count": 39,
   "metadata": {},
   "outputs": [],
   "source": [
    "Amazon_Asus_computer_laptop=Amazon_Asus_computer_laptop.transpose()\n",
    "Amazon_Asus_computer_laptop.columns = ['ProductName','Price','Demicals','Fractions','Rating','Amount']"
   ]
  },
  {
   "cell_type": "code",
   "execution_count": 40,
   "metadata": {},
   "outputs": [
    {
     "data": {
      "text/html": [
       "<div>\n",
       "<style scoped>\n",
       "    .dataframe tbody tr th:only-of-type {\n",
       "        vertical-align: middle;\n",
       "    }\n",
       "\n",
       "    .dataframe tbody tr th {\n",
       "        vertical-align: top;\n",
       "    }\n",
       "\n",
       "    .dataframe thead th {\n",
       "        text-align: right;\n",
       "    }\n",
       "</style>\n",
       "<table border=\"1\" class=\"dataframe\">\n",
       "  <thead>\n",
       "    <tr style=\"text-align: right;\">\n",
       "      <th></th>\n",
       "      <th>ProductName</th>\n",
       "      <th>Price</th>\n",
       "      <th>Demicals</th>\n",
       "      <th>Fractions</th>\n",
       "      <th>Rating</th>\n",
       "      <th>Amount</th>\n",
       "    </tr>\n",
       "  </thead>\n",
       "  <tbody>\n",
       "    <tr>\n",
       "      <th>0</th>\n",
       "      <td>Asus 11.6 HD Thin Light Student Laptop 2022 Ne...</td>\n",
       "      <td>8,339.</td>\n",
       "      <td>.</td>\n",
       "      <td>76</td>\n",
       "      <td>4.3 out of 5 stars</td>\n",
       "      <td>184</td>\n",
       "    </tr>\n",
       "    <tr>\n",
       "      <th>1</th>\n",
       "      <td>2021 Flagship ASUS Laptop 15.6\" Thin Light Lap...</td>\n",
       "      <td>11,019.</td>\n",
       "      <td>.</td>\n",
       "      <td>20</td>\n",
       "      <td>4.2 out of 5 stars</td>\n",
       "      <td>41</td>\n",
       "    </tr>\n",
       "    <tr>\n",
       "      <th>2</th>\n",
       "      <td>ASUS Laptop L210 11.6” ultra thin, Intel Celer...</td>\n",
       "      <td>7,368.</td>\n",
       "      <td>.</td>\n",
       "      <td>13</td>\n",
       "      <td>4.3 out of 5 stars</td>\n",
       "      <td>6,164</td>\n",
       "    </tr>\n",
       "    <tr>\n",
       "      <th>3</th>\n",
       "      <td>ASUS Laptop L510 Ultra Thin Laptop, 15.6” FHD ...</td>\n",
       "      <td>8,775.</td>\n",
       "      <td>.</td>\n",
       "      <td>17</td>\n",
       "      <td>4.5 out of 5 stars</td>\n",
       "      <td>447</td>\n",
       "    </tr>\n",
       "    <tr>\n",
       "      <th>4</th>\n",
       "      <td>2022 ASUS L510 Ultra Thin Laptop, 15.6\" FHD Di...</td>\n",
       "      <td>11,387.</td>\n",
       "      <td>.</td>\n",
       "      <td>29</td>\n",
       "      <td>4.4 out of 5 stars</td>\n",
       "      <td>124</td>\n",
       "    </tr>\n",
       "    <tr>\n",
       "      <th>5</th>\n",
       "      <td>ASUS VivoBook 15 Thin and Light Laptop, 15.6” ...</td>\n",
       "      <td>14,971.</td>\n",
       "      <td>.</td>\n",
       "      <td>37</td>\n",
       "      <td>4.6 out of 5 stars</td>\n",
       "      <td>5,317</td>\n",
       "    </tr>\n",
       "    <tr>\n",
       "      <th>6</th>\n",
       "      <td>2022 ASUS VivoBook 15 Touchscreen Laptop, i3-1...</td>\n",
       "      <td>16,746.</td>\n",
       "      <td>.</td>\n",
       "      <td>17</td>\n",
       "      <td>4.2 out of 5 stars</td>\n",
       "      <td>25</td>\n",
       "    </tr>\n",
       "    <tr>\n",
       "      <th>7</th>\n",
       "      <td>ASUS VivoBook 14\" FHD LED Display Thin and Lig...</td>\n",
       "      <td>21,767.</td>\n",
       "      <td>.</td>\n",
       "      <td>10</td>\n",
       "      <td>4.0 out of 5 stars</td>\n",
       "      <td>17</td>\n",
       "    </tr>\n",
       "    <tr>\n",
       "      <th>8</th>\n",
       "      <td>ASUS VivoBook 15 Thin and Light 15.6” FHD Busi...</td>\n",
       "      <td>18,387.</td>\n",
       "      <td>.</td>\n",
       "      <td>66</td>\n",
       "      <td>4.0 out of 5 stars</td>\n",
       "      <td>6</td>\n",
       "    </tr>\n",
       "    <tr>\n",
       "      <th>9</th>\n",
       "      <td>2021 Flagship ASUS Laptop 15.6\" Thin Light Lap...</td>\n",
       "      <td>11,019.</td>\n",
       "      <td>.</td>\n",
       "      <td>20</td>\n",
       "      <td>4.2 out of 5 stars</td>\n",
       "      <td>41</td>\n",
       "    </tr>\n",
       "    <tr>\n",
       "      <th>10</th>\n",
       "      <td>ASUS Laptop L210 11.6” Ultra Thin, Intel Celer...</td>\n",
       "      <td>7,368.</td>\n",
       "      <td>.</td>\n",
       "      <td>13</td>\n",
       "      <td>3.9 out of 5 stars</td>\n",
       "      <td>34</td>\n",
       "    </tr>\n",
       "    <tr>\n",
       "      <th>11</th>\n",
       "      <td>Newest ASUS Vivobook Laptop, 15.6\" Full HD Tou...</td>\n",
       "      <td>32,454.</td>\n",
       "      <td>.</td>\n",
       "      <td>72</td>\n",
       "      <td>4.0 out of 5 stars</td>\n",
       "      <td>25</td>\n",
       "    </tr>\n",
       "    <tr>\n",
       "      <th>12</th>\n",
       "      <td>ASUS Chromebook C523 Laptop, 15.6\" HD NanoEdge...</td>\n",
       "      <td>7,767.</td>\n",
       "      <td>.</td>\n",
       "      <td>03</td>\n",
       "      <td>4.3 out of 5 stars</td>\n",
       "      <td>1,426</td>\n",
       "    </tr>\n",
       "    <tr>\n",
       "      <th>13</th>\n",
       "      <td>ASUS VivoBook 15 Thin and Light Laptop, 15.6” ...</td>\n",
       "      <td>22,339.</td>\n",
       "      <td>.</td>\n",
       "      <td>83</td>\n",
       "      <td>4.5 out of 5 stars</td>\n",
       "      <td>919</td>\n",
       "    </tr>\n",
       "    <tr>\n",
       "      <th>14</th>\n",
       "      <td>ASUS VivoBook S14 S433 Thin and Light Laptop, ...</td>\n",
       "      <td>21,770.</td>\n",
       "      <td>.</td>\n",
       "      <td>12</td>\n",
       "      <td>4.6 out of 5 stars</td>\n",
       "      <td>285</td>\n",
       "    </tr>\n",
       "    <tr>\n",
       "      <th>15</th>\n",
       "      <td>ASUS TUF Dash 15 (2021) Ultra Slim Gaming Lapt...</td>\n",
       "      <td>31,818.</td>\n",
       "      <td>.</td>\n",
       "      <td>02</td>\n",
       "      <td>4.5 out of 5 stars</td>\n",
       "      <td>716</td>\n",
       "    </tr>\n",
       "    <tr>\n",
       "      <th>16</th>\n",
       "      <td>ASUS Vivobook 17.3\" FHD LED-Backlit Business L...</td>\n",
       "      <td>23,042.</td>\n",
       "      <td>.</td>\n",
       "      <td>85</td>\n",
       "      <td>5.0 out of 5 stars</td>\n",
       "      <td>2</td>\n",
       "    </tr>\n",
       "    <tr>\n",
       "      <th>17</th>\n",
       "      <td>ASUS VivoBook 15 OLED K513 Thin &amp; Light Laptop...</td>\n",
       "      <td>24,644.</td>\n",
       "      <td>.</td>\n",
       "      <td>82</td>\n",
       "      <td>4.0 out of 5 stars</td>\n",
       "      <td>80</td>\n",
       "    </tr>\n",
       "    <tr>\n",
       "      <th>18</th>\n",
       "      <td>ASUS Chromebook Flip C433 2 in 1 Laptop, 14\" T...</td>\n",
       "      <td>13,228.</td>\n",
       "      <td>.</td>\n",
       "      <td>06</td>\n",
       "      <td>4.5 out of 5 stars</td>\n",
       "      <td>470</td>\n",
       "    </tr>\n",
       "    <tr>\n",
       "      <th>19</th>\n",
       "      <td>ASUS Chromebook C223 11.6\" HD Chromebook Lapto...</td>\n",
       "      <td>4,588.</td>\n",
       "      <td>.</td>\n",
       "      <td>21</td>\n",
       "      <td>4.3 out of 5 stars</td>\n",
       "      <td>1,346</td>\n",
       "    </tr>\n",
       "    <tr>\n",
       "      <th>20</th>\n",
       "      <td>2022 ASUS VivoBook 15 Touchscreen Laptop, i3-1...</td>\n",
       "      <td>16,746.</td>\n",
       "      <td>.</td>\n",
       "      <td>17</td>\n",
       "      <td>4.2 out of 5 stars</td>\n",
       "      <td>25</td>\n",
       "    </tr>\n",
       "    <tr>\n",
       "      <th>21</th>\n",
       "      <td>ASUS Vivobook 15.6\" FHD Display Laptop - Intel...</td>\n",
       "      <td>28,435.</td>\n",
       "      <td>.</td>\n",
       "      <td>23</td>\n",
       "      <td>4.5 out of 5 stars</td>\n",
       "      <td>26</td>\n",
       "    </tr>\n",
       "    <tr>\n",
       "      <th>22</th>\n",
       "      <td>Newest ASUS Vivobook Laptop, 15.6\" Full HD Tou...</td>\n",
       "      <td>32,454.</td>\n",
       "      <td>.</td>\n",
       "      <td>72</td>\n",
       "      <td>4.0 out of 5 stars</td>\n",
       "      <td>25</td>\n",
       "    </tr>\n",
       "    <tr>\n",
       "      <th>23</th>\n",
       "      <td>ASUS VivoBook Flip 14 Thin and Light 2-in-1 La...</td>\n",
       "      <td>15,071.</td>\n",
       "      <td>.</td>\n",
       "      <td>52</td>\n",
       "      <td>4.4 out of 5 stars</td>\n",
       "      <td>172</td>\n",
       "    </tr>\n",
       "    <tr>\n",
       "      <th>24</th>\n",
       "      <td>ASUS VivoBook 15 M515 Thin and Light Laptop, 1...</td>\n",
       "      <td>21,100.</td>\n",
       "      <td>.</td>\n",
       "      <td>26</td>\n",
       "      <td>4.6 out of 5 stars</td>\n",
       "      <td>114</td>\n",
       "    </tr>\n",
       "    <tr>\n",
       "      <th>25</th>\n",
       "      <td>ASUS VivoBook 15 F515 Thin and Light Laptop, 1...</td>\n",
       "      <td>13,531.</td>\n",
       "      <td>.</td>\n",
       "      <td>17</td>\n",
       "      <td>4.5 out of 5 stars</td>\n",
       "      <td>868</td>\n",
       "    </tr>\n",
       "    <tr>\n",
       "      <th>26</th>\n",
       "      <td>ASUS 15.6\" FHD Thin Light Laptop 2022 Newest, ...</td>\n",
       "      <td>11,049.</td>\n",
       "      <td>.</td>\n",
       "      <td>34</td>\n",
       "      <td>4.5 out of 5 stars</td>\n",
       "      <td>20</td>\n",
       "    </tr>\n",
       "    <tr>\n",
       "      <th>27</th>\n",
       "      <td>ASUS TUF Gaming F15 Gaming Laptop, 15.6” 144Hz...</td>\n",
       "      <td>47,626.</td>\n",
       "      <td>.</td>\n",
       "      <td>72</td>\n",
       "      <td>4.2 out of 5 stars</td>\n",
       "      <td>102</td>\n",
       "    </tr>\n",
       "    <tr>\n",
       "      <th>28</th>\n",
       "      <td>ASUS 15.6\" FHD Thin Light Laptop 2022 Newest, ...</td>\n",
       "      <td>11,052.</td>\n",
       "      <td>.</td>\n",
       "      <td>36</td>\n",
       "      <td>5.0 out of 5 stars</td>\n",
       "      <td>1</td>\n",
       "    </tr>\n",
       "    <tr>\n",
       "      <th>29</th>\n",
       "      <td>ASUS VivoBook 15 15.6\" FHD High Performance La...</td>\n",
       "      <td>18,420.</td>\n",
       "      <td>.</td>\n",
       "      <td>82</td>\n",
       "      <td>5.0 out of 5 stars</td>\n",
       "      <td>8</td>\n",
       "    </tr>\n",
       "  </tbody>\n",
       "</table>\n",
       "</div>"
      ],
      "text/plain": [
       "                                          ProductName    Price Demicals  \\\n",
       "0   Asus 11.6 HD Thin Light Student Laptop 2022 Ne...   8,339.        .   \n",
       "1   2021 Flagship ASUS Laptop 15.6\" Thin Light Lap...  11,019.        .   \n",
       "2   ASUS Laptop L210 11.6” ultra thin, Intel Celer...   7,368.        .   \n",
       "3   ASUS Laptop L510 Ultra Thin Laptop, 15.6” FHD ...   8,775.        .   \n",
       "4   2022 ASUS L510 Ultra Thin Laptop, 15.6\" FHD Di...  11,387.        .   \n",
       "5   ASUS VivoBook 15 Thin and Light Laptop, 15.6” ...  14,971.        .   \n",
       "6   2022 ASUS VivoBook 15 Touchscreen Laptop, i3-1...  16,746.        .   \n",
       "7   ASUS VivoBook 14\" FHD LED Display Thin and Lig...  21,767.        .   \n",
       "8   ASUS VivoBook 15 Thin and Light 15.6” FHD Busi...  18,387.        .   \n",
       "9   2021 Flagship ASUS Laptop 15.6\" Thin Light Lap...  11,019.        .   \n",
       "10  ASUS Laptop L210 11.6” Ultra Thin, Intel Celer...   7,368.        .   \n",
       "11  Newest ASUS Vivobook Laptop, 15.6\" Full HD Tou...  32,454.        .   \n",
       "12  ASUS Chromebook C523 Laptop, 15.6\" HD NanoEdge...   7,767.        .   \n",
       "13  ASUS VivoBook 15 Thin and Light Laptop, 15.6” ...  22,339.        .   \n",
       "14  ASUS VivoBook S14 S433 Thin and Light Laptop, ...  21,770.        .   \n",
       "15  ASUS TUF Dash 15 (2021) Ultra Slim Gaming Lapt...  31,818.        .   \n",
       "16  ASUS Vivobook 17.3\" FHD LED-Backlit Business L...  23,042.        .   \n",
       "17  ASUS VivoBook 15 OLED K513 Thin & Light Laptop...  24,644.        .   \n",
       "18  ASUS Chromebook Flip C433 2 in 1 Laptop, 14\" T...  13,228.        .   \n",
       "19  ASUS Chromebook C223 11.6\" HD Chromebook Lapto...   4,588.        .   \n",
       "20  2022 ASUS VivoBook 15 Touchscreen Laptop, i3-1...  16,746.        .   \n",
       "21  ASUS Vivobook 15.6\" FHD Display Laptop - Intel...  28,435.        .   \n",
       "22  Newest ASUS Vivobook Laptop, 15.6\" Full HD Tou...  32,454.        .   \n",
       "23  ASUS VivoBook Flip 14 Thin and Light 2-in-1 La...  15,071.        .   \n",
       "24  ASUS VivoBook 15 M515 Thin and Light Laptop, 1...  21,100.        .   \n",
       "25  ASUS VivoBook 15 F515 Thin and Light Laptop, 1...  13,531.        .   \n",
       "26  ASUS 15.6\" FHD Thin Light Laptop 2022 Newest, ...  11,049.        .   \n",
       "27  ASUS TUF Gaming F15 Gaming Laptop, 15.6” 144Hz...  47,626.        .   \n",
       "28  ASUS 15.6\" FHD Thin Light Laptop 2022 Newest, ...  11,052.        .   \n",
       "29  ASUS VivoBook 15 15.6\" FHD High Performance La...  18,420.        .   \n",
       "\n",
       "   Fractions              Rating Amount  \n",
       "0         76  4.3 out of 5 stars    184  \n",
       "1         20  4.2 out of 5 stars     41  \n",
       "2         13  4.3 out of 5 stars  6,164  \n",
       "3         17  4.5 out of 5 stars    447  \n",
       "4         29  4.4 out of 5 stars    124  \n",
       "5         37  4.6 out of 5 stars  5,317  \n",
       "6         17  4.2 out of 5 stars     25  \n",
       "7         10  4.0 out of 5 stars     17  \n",
       "8         66  4.0 out of 5 stars      6  \n",
       "9         20  4.2 out of 5 stars     41  \n",
       "10        13  3.9 out of 5 stars     34  \n",
       "11        72  4.0 out of 5 stars     25  \n",
       "12        03  4.3 out of 5 stars  1,426  \n",
       "13        83  4.5 out of 5 stars    919  \n",
       "14        12  4.6 out of 5 stars    285  \n",
       "15        02  4.5 out of 5 stars    716  \n",
       "16        85  5.0 out of 5 stars      2  \n",
       "17        82  4.0 out of 5 stars     80  \n",
       "18        06  4.5 out of 5 stars    470  \n",
       "19        21  4.3 out of 5 stars  1,346  \n",
       "20        17  4.2 out of 5 stars     25  \n",
       "21        23  4.5 out of 5 stars     26  \n",
       "22        72  4.0 out of 5 stars     25  \n",
       "23        52  4.4 out of 5 stars    172  \n",
       "24        26  4.6 out of 5 stars    114  \n",
       "25        17  4.5 out of 5 stars    868  \n",
       "26        34  4.5 out of 5 stars     20  \n",
       "27        72  4.2 out of 5 stars    102  \n",
       "28        36  5.0 out of 5 stars      1  \n",
       "29        82  5.0 out of 5 stars      8  "
      ]
     },
     "execution_count": 40,
     "metadata": {},
     "output_type": "execute_result"
    }
   ],
   "source": [
    "Amazon_Asus_computer_laptop"
   ]
  },
  {
   "cell_type": "code",
   "execution_count": 41,
   "metadata": {},
   "outputs": [],
   "source": [
    "Amazon_Asus_computer_laptop.to_excel(r'C:\\Users\\user\\OneDrive\\Desktop\\Amazon\\Asus_laptop.xlsx')"
   ]
  }
 ],
 "metadata": {
  "interpreter": {
   "hash": "b4c3ccfac994cfbb0c569516686a847c6b81ac3d5e88d1841f2604759f69593a"
  },
  "kernelspec": {
   "display_name": "Python 3.8.12 64-bit ('base': conda)",
   "language": "python",
   "name": "python3"
  },
  "language_info": {
   "codemirror_mode": {
    "name": "ipython",
    "version": 3
   },
   "file_extension": ".py",
   "mimetype": "text/x-python",
   "name": "python",
   "nbconvert_exporter": "python",
   "pygments_lexer": "ipython3",
   "version": "3.8.12"
  },
  "orig_nbformat": 4
 },
 "nbformat": 4,
 "nbformat_minor": 2
}
